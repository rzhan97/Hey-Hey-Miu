{
 "cells": [
  {
   "cell_type": "code",
   "execution_count": 1,
   "id": "3ce6e107",
   "metadata": {},
   "outputs": [
    {
     "name": "stdout",
     "output_type": "stream",
     "text": [
      "Requirement already satisfied: Flask in /Users/zoe/opt/anaconda3/lib/python3.8/site-packages (1.1.2)\n",
      "Requirement already satisfied: itsdangerous>=0.24 in /Users/zoe/opt/anaconda3/lib/python3.8/site-packages (from Flask) (1.1.0)\n",
      "Requirement already satisfied: click>=5.1 in /Users/zoe/opt/anaconda3/lib/python3.8/site-packages (from Flask) (7.1.2)\n",
      "Requirement already satisfied: Werkzeug>=0.15 in /Users/zoe/opt/anaconda3/lib/python3.8/site-packages (from Flask) (1.0.1)\n",
      "Requirement already satisfied: Jinja2>=2.10.1 in /Users/zoe/opt/anaconda3/lib/python3.8/site-packages (from Flask) (2.11.3)\n",
      "Requirement already satisfied: MarkupSafe>=0.23 in /Users/zoe/opt/anaconda3/lib/python3.8/site-packages (from Jinja2>=2.10.1->Flask) (1.1.1)\n"
     ]
    }
   ],
   "source": [
    "!pip install Flask"
   ]
  },
  {
   "cell_type": "code",
   "execution_count": null,
   "id": "909696b6",
   "metadata": {},
   "outputs": [],
   "source": []
  }
 ],
 "metadata": {
  "kernelspec": {
   "display_name": "Python 3",
   "language": "python",
   "name": "python3"
  },
  "language_info": {
   "codemirror_mode": {
    "name": "ipython",
    "version": 3
   },
   "file_extension": ".py",
   "mimetype": "text/x-python",
   "name": "python",
   "nbconvert_exporter": "python",
   "pygments_lexer": "ipython3",
   "version": "3.8.8"
  }
 },
 "nbformat": 4,
 "nbformat_minor": 5
}
