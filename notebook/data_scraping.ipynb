{
 "cells": [
  {
   "cell_type": "markdown",
   "metadata": {},
   "source": [
    "# Data scraping with Last.fm API"
   ]
  },
  {
   "cell_type": "code",
   "execution_count": 2,
   "metadata": {},
   "outputs": [],
   "source": [
    "import requests\n",
    "import json\n",
    "import time\n",
    "import pandas as pd\n",
    "import numpy as np\n",
    "import matplotlib.pyplot as plt\n",
    "import seaborn as sns\n",
    "from random import sample\n",
    "import selenium\n",
    "from tqdm import tqdm"
   ]
  },
  {
   "cell_type": "markdown",
   "metadata": {},
   "source": [
    "### Function used for data scripting"
   ]
  },
  {
   "cell_type": "code",
   "execution_count": 13,
   "metadata": {},
   "outputs": [],
   "source": [
    "#shared secret:5e11e4bca8ad54566e466513df709822\n",
    "def lastfm_get(payload):\n",
    "\n",
    "    headers = {'user-agent': 'rzhan97'}\n",
    "    url = 'http://ws.audioscrobbler.com/2.0/'\n",
    "\n",
    "    payload['api_key'] = '5e11e4bca8ad54566e466513df709822'\n",
    "    payload['format'] = 'json'\n",
    "\n",
    "    response = requests.get(url, headers=headers, params=payload)\n",
    "    return response\n",
    "\n",
    "#This function is only help for me to understand json file\n",
    "def jprint(obj):\n",
    "    text = json.dumps(obj, sort_keys=True, indent=4)\n",
    "    print(text)"
   ]
  },
  {
   "cell_type": "code",
   "execution_count": 14,
   "metadata": {},
   "outputs": [],
   "source": [
    "#This function is helping me get all the users' info\n",
    "def lookup_userinfo(user):\n",
    "    response = lastfm_get({\n",
    "    'method': 'user.getInfo',\n",
    "    'user' : user\n",
    "    })\n",
    "\n",
    "    if response.status_code != 200:\n",
    "        return None\n",
    "\n",
    "    name = response.json()['user']['realname']\n",
    "    country = response.json()['user']['country']\n",
    "    playcount = response.json()['user']['playcount']\n",
    "\n",
    "\n",
    "    # rate limiting\n",
    "    if not getattr(response, 'from_cache', False):\n",
    "        time.sleep(0.25)\n",
    "    return name,country,playcount"
   ]
  },
  {
   "cell_type": "code",
   "execution_count": 15,
   "metadata": {},
   "outputs": [],
   "source": [
    "#Build a funtion to get user's top track, I also wrote a function about user's loved song and recent songs\n",
    "#However, recent songs cannot represent user like it or not, and user usually won't liked a song in Las.fm website\n",
    "#They tend to link the music app account with last.fm and listen music on their own music app\n",
    "def lookup_topsong(user):\n",
    "    response = lastfm_get({\n",
    "    'method': 'user.getTopTracks',\n",
    "    'user' : user\n",
    "    })\n",
    "\n",
    "    if response.status_code != 200:\n",
    "        return None\n",
    "\n",
    "    song = [t['name'] for t in response.json()['toptracks']['track']]\n",
    "    playcount = [t['playcount'] for t in response.json()['toptracks']['track']]\n",
    "    artist = [t['artist']['name'] for t in response.json()['toptracks']['track']]\n",
    "\n",
    "\n",
    "    # rate limiting\n",
    "    if not getattr(response, 'from_cache', False):\n",
    "        time.sleep(0.25)\n",
    "    return song,playcount,artist"
   ]
  },
  {
   "cell_type": "code",
   "execution_count": 16,
   "metadata": {},
   "outputs": [],
   "source": [
    "#Build a funtion to get song's metadata\n",
    "def lookup_songinfo(track,artist):\n",
    "    response = lastfm_get({\n",
    "    'method': 'track.getInfo',\n",
    "    'track' : track,\n",
    "    'artist':artist\n",
    "    })\n",
    "\n",
    "    if response.status_code != 200:\n",
    "        return None\n",
    "\n",
    "    duration = response.json()['track']['duration']\n",
    "    listeners = response.json()['track']['listeners']\n",
    "    playcount = response.json()['track']['playcount']\n",
    "    album = response.json()['track']['album']['title'] \n",
    "    tags = [t['name'] for t in response.json()['track']['toptags']['tag'] ]\n",
    "    try:\n",
    "        published_date = response.json()['track']['wiki']['published']\n",
    "    except:\n",
    "        published_date = None\n",
    "\n",
    "    # rate limiting\n",
    "    if not getattr(response, 'from_cache', False):\n",
    "        time.sleep(0.25)\n",
    "    return duration,listeners,playcount,album,tags,published_date"
   ]
  },
  {
   "cell_type": "markdown",
   "metadata": {},
   "source": [
    "### Use try/except to catch the failed users"
   ]
  },
  {
   "cell_type": "code",
   "execution_count": 7,
   "metadata": {},
   "outputs": [
    {
     "name": "stderr",
     "output_type": "stream",
     "text": [
      "\r",
      "  0%|          | 0/50 [00:00<?, ?it/s]"
     ]
    },
    {
     "name": "stdout",
     "output_type": "stream",
     "text": [
      "https://www.last.fm/user/shaisterreal/neighbours\n"
     ]
    },
    {
     "name": "stderr",
     "output_type": "stream",
     "text": [
      "\r",
      "  2%|▏         | 1/50 [08:54<7:16:35, 534.60s/it]"
     ]
    },
    {
     "name": "stdout",
     "output_type": "stream",
     "text": [
      "https://www.last.fm/user/p0tatosalad_/neighbours\n"
     ]
    },
    {
     "name": "stderr",
     "output_type": "stream",
     "text": [
      "\r",
      "  4%|▍         | 2/50 [17:08<6:48:30, 510.64s/it]"
     ]
    },
    {
     "name": "stdout",
     "output_type": "stream",
     "text": [
      "https://www.last.fm/user/virginicreeper/neighbours\n"
     ]
    },
    {
     "name": "stderr",
     "output_type": "stream",
     "text": [
      "\r",
      "  6%|▌         | 3/50 [25:30<6:36:54, 506.69s/it]"
     ]
    },
    {
     "name": "stdout",
     "output_type": "stream",
     "text": [
      "https://www.last.fm/user/xiumilka/neighbours\n"
     ]
    },
    {
     "name": "stderr",
     "output_type": "stream",
     "text": [
      "\r",
      "  8%|▊         | 4/50 [34:03<6:30:28, 509.32s/it]"
     ]
    },
    {
     "name": "stdout",
     "output_type": "stream",
     "text": [
      "https://www.last.fm/user/ssss0717/neighbours\n"
     ]
    },
    {
     "name": "stderr",
     "output_type": "stream",
     "text": [
      "\r",
      " 10%|█         | 5/50 [43:02<6:29:59, 519.99s/it]"
     ]
    },
    {
     "name": "stdout",
     "output_type": "stream",
     "text": [
      "https://www.last.fm/user/Luuuuesi/neighbours\n"
     ]
    },
    {
     "name": "stderr",
     "output_type": "stream",
     "text": [
      "\r",
      " 12%|█▏        | 6/50 [51:09<6:12:56, 508.55s/it]"
     ]
    },
    {
     "name": "stdout",
     "output_type": "stream",
     "text": [
      "https://www.last.fm/user/loredoj22/neighbours\n"
     ]
    },
    {
     "name": "stderr",
     "output_type": "stream",
     "text": [
      "\r",
      " 14%|█▍        | 7/50 [59:29<6:02:30, 505.84s/it]"
     ]
    },
    {
     "name": "stdout",
     "output_type": "stream",
     "text": [
      "https://www.last.fm/user/leiamcmillan/neighbours\n"
     ]
    },
    {
     "name": "stderr",
     "output_type": "stream",
     "text": [
      "\r",
      " 16%|█▌        | 8/50 [1:07:50<5:53:03, 504.36s/it]"
     ]
    },
    {
     "name": "stdout",
     "output_type": "stream",
     "text": [
      "https://www.last.fm/user/mehungryfood/neighbours\n"
     ]
    },
    {
     "name": "stderr",
     "output_type": "stream",
     "text": [
      "\r",
      " 18%|█▊        | 9/50 [1:17:24<5:59:31, 526.13s/it]"
     ]
    },
    {
     "name": "stdout",
     "output_type": "stream",
     "text": [
      "https://www.last.fm/user/HampusHH/neighbours\n"
     ]
    },
    {
     "name": "stderr",
     "output_type": "stream",
     "text": [
      " 18%|█▊        | 9/50 [1:37:33<7:24:24, 650.36s/it]\n"
     ]
    },
    {
     "ename": "IndexError",
     "evalue": "list index out of range",
     "output_type": "error",
     "traceback": [
      "\u001b[0;31m---------------------------------------------------------------------------\u001b[0m",
      "\u001b[0;31mIndexError\u001b[0m                                Traceback (most recent call last)",
      "\u001b[0;32m<ipython-input-7-b0bbc815066c>\u001b[0m in \u001b[0;36m<module>\u001b[0;34m\u001b[0m\n\u001b[1;32m     24\u001b[0m         \u001b[0;32mfor\u001b[0m \u001b[0mi\u001b[0m \u001b[0;32min\u001b[0m \u001b[0mrange\u001b[0m\u001b[0;34m(\u001b[0m\u001b[0mlen\u001b[0m\u001b[0;34m(\u001b[0m\u001b[0muser_names\u001b[0m\u001b[0;34m)\u001b[0m\u001b[0;34m)\u001b[0m\u001b[0;34m:\u001b[0m\u001b[0;34m\u001b[0m\u001b[0;34m\u001b[0m\u001b[0m\n\u001b[1;32m     25\u001b[0m             \u001b[0mtime\u001b[0m\u001b[0;34m.\u001b[0m\u001b[0msleep\u001b[0m\u001b[0;34m(\u001b[0m\u001b[0;36m2\u001b[0m\u001b[0;34m)\u001b[0m\u001b[0;34m\u001b[0m\u001b[0;34m\u001b[0m\u001b[0m\n\u001b[0;32m---> 26\u001b[0;31m             \u001b[0muser_link\u001b[0m \u001b[0;34m=\u001b[0m \u001b[0muser_names\u001b[0m\u001b[0;34m[\u001b[0m\u001b[0mi\u001b[0m\u001b[0;34m]\u001b[0m\u001b[0;34m.\u001b[0m\u001b[0mfind_element_by_tag_name\u001b[0m\u001b[0;34m(\u001b[0m\u001b[0;34m'a'\u001b[0m\u001b[0;34m)\u001b[0m\u001b[0;34m.\u001b[0m\u001b[0mget_attribute\u001b[0m\u001b[0;34m(\u001b[0m\u001b[0;34m'href'\u001b[0m\u001b[0;34m)\u001b[0m\u001b[0;34m+\u001b[0m\u001b[0;34m\"/neighbours\"\u001b[0m\u001b[0;34m\u001b[0m\u001b[0;34m\u001b[0m\u001b[0m\n\u001b[0m\u001b[1;32m     27\u001b[0m             \u001b[0mtime\u001b[0m\u001b[0;34m.\u001b[0m\u001b[0msleep\u001b[0m\u001b[0;34m(\u001b[0m\u001b[0;36m2\u001b[0m\u001b[0;34m)\u001b[0m\u001b[0;34m\u001b[0m\u001b[0;34m\u001b[0m\u001b[0m\n\u001b[1;32m     28\u001b[0m             \u001b[0mdriver\u001b[0m\u001b[0;34m.\u001b[0m\u001b[0mget\u001b[0m\u001b[0;34m(\u001b[0m\u001b[0muser_link\u001b[0m\u001b[0;34m)\u001b[0m\u001b[0;34m\u001b[0m\u001b[0;34m\u001b[0m\u001b[0m\n",
      "\u001b[0;31mIndexError\u001b[0m: list index out of range"
     ]
    }
   ],
   "source": [
    "#Get my neighbors' neighbors' neighbors, which is 3rd connection with me.\n",
    "#This is the quickiest way to get users' name. However, those are all the users might have similar taste with me.\n",
    "#To reduce some bias, I will only sample 10,000 users from those users\n",
    "from selenium import webdriver\n",
    "from selenium.webdriver.common.action_chains import ActionChains\n",
    "import time\n",
    "from tqdm import tqdm\n",
    "#def get_users(username):\n",
    "path = \"/Users/zoe/Desktop/chromedriver\"\n",
    "driver = webdriver.Chrome(path)\n",
    "driver.get(\"https://www.last.fm/user/rzhan97/neighbours\")\n",
    "user = []\n",
    "time.sleep(2)\n",
    "user_names = driver.find_elements_by_class_name(\"user-list-name\")\n",
    "for i in tqdm(range(len(user_names))):\n",
    "#    while True:\n",
    "#        try:\n",
    "        time.sleep(2)\n",
    "        user_link = user_names[i].find_element_by_tag_name('a').get_attribute('href')+\"/neighbours\"\n",
    "        print(user_link)\n",
    "        time.sleep(2)\n",
    "        driver.get(user_link)\n",
    "        user_names = driver.find_elements_by_class_name(\"user-list-name\")\n",
    "        for i in range(len(user_names)):\n",
    "            time.sleep(2)\n",
    "            user_link = user_names[i].find_element_by_tag_name('a').get_attribute('href')+\"/neighbours\"\n",
    "            time.sleep(2)\n",
    "            driver.get(user_link)\n",
    "            user_names = driver.find_elements_by_class_name(\"user-list-name\")\n",
    "            for i in range(len(user_names)):\n",
    "                user.append(user_names[i].text)\n",
    "            driver.back()\n",
    "            time.sleep(2)\n",
    "            user_names = driver.find_elements_by_class_name(\"user-list-name\")\n",
    "        driver.back()\n",
    "        user_names = driver.find_elements_by_class_name(\"user-list-name\")\n",
    "user = list(dict.fromkeys(user))\n",
    "driver.quit()\n",
    "#return user"
   ]
  },
  {
   "cell_type": "code",
   "execution_count": 8,
   "metadata": {},
   "outputs": [],
   "source": [
    "#Save the user's list into disk\n",
    "with open('../data/raw/scraped/user.json', 'w') as f:\n",
    "    json.dump(user, f)"
   ]
  },
  {
   "cell_type": "code",
   "execution_count": 9,
   "metadata": {},
   "outputs": [],
   "source": [
    "#Load the user's list again\n",
    "with open('../data/raw/scraped/user.json') as f:\n",
    "    user2 = json.load(f)"
   ]
  },
  {
   "cell_type": "code",
   "execution_count": 10,
   "metadata": {},
   "outputs": [
    {
     "name": "stdout",
     "output_type": "stream",
     "text": [
      "22082\n"
     ]
    }
   ],
   "source": [
    "#Check how many users we have\n",
    "print(len(user2))"
   ]
  },
  {
   "cell_type": "code",
   "execution_count": 11,
   "metadata": {},
   "outputs": [],
   "source": [
    "#Filtering 10,000 from the list\n",
    "rzhan97_small_list= sample(user2,10000)"
   ]
  },
  {
   "cell_type": "code",
   "execution_count": 19,
   "metadata": {},
   "outputs": [
    {
     "name": "stderr",
     "output_type": "stream",
     "text": [
      "100%|██████████| 10000/10000 [2:23:45<00:00,  1.16it/s] \n"
     ]
    }
   ],
   "source": [
    "#convert them into dataframe, also get the artist with the song, in case there are duplicate song name\n",
    "song = []\n",
    "artist = []\n",
    "count = []\n",
    "user = []\n",
    "for i in tqdm(range(len(rzhan97_small_list))):\n",
    "    data = lookup_topsong(rzhan97_small_list[i])\n",
    "    try:\n",
    "        song.extend(data[0])\n",
    "        count.extend(data[1])\n",
    "        artist.extend(data[2])\n",
    "        user.extend([rzhan97_small_list[i]]*50)\n",
    "    except:\n",
    "        continue\n",
    "\n",
    "\n",
    "usersong_df = pd.DataFrame(zip(user,artist,song,count), columns =['user','artist','songs','count'])\n"
   ]
  },
  {
   "cell_type": "code",
   "execution_count": 20,
   "metadata": {},
   "outputs": [
    {
     "data": {
      "text/html": [
       "<div>\n",
       "<style scoped>\n",
       "    .dataframe tbody tr th:only-of-type {\n",
       "        vertical-align: middle;\n",
       "    }\n",
       "\n",
       "    .dataframe tbody tr th {\n",
       "        vertical-align: top;\n",
       "    }\n",
       "\n",
       "    .dataframe thead th {\n",
       "        text-align: right;\n",
       "    }\n",
       "</style>\n",
       "<table border=\"1\" class=\"dataframe\">\n",
       "  <thead>\n",
       "    <tr style=\"text-align: right;\">\n",
       "      <th></th>\n",
       "      <th>user</th>\n",
       "      <th>artist</th>\n",
       "      <th>songs</th>\n",
       "      <th>count</th>\n",
       "    </tr>\n",
       "  </thead>\n",
       "  <tbody>\n",
       "    <tr>\n",
       "      <th>0</th>\n",
       "      <td>raedrexlre</td>\n",
       "      <td>Rex Orange County</td>\n",
       "      <td>Corduroy Dreams</td>\n",
       "      <td>9</td>\n",
       "    </tr>\n",
       "    <tr>\n",
       "      <th>1</th>\n",
       "      <td>raedrexlre</td>\n",
       "      <td>Keshi</td>\n",
       "      <td>blue</td>\n",
       "      <td>8</td>\n",
       "    </tr>\n",
       "    <tr>\n",
       "      <th>2</th>\n",
       "      <td>raedrexlre</td>\n",
       "      <td>Zeph</td>\n",
       "      <td>Lucky</td>\n",
       "      <td>8</td>\n",
       "    </tr>\n",
       "    <tr>\n",
       "      <th>3</th>\n",
       "      <td>raedrexlre</td>\n",
       "      <td>Pink Sweat$</td>\n",
       "      <td>17</td>\n",
       "      <td>7</td>\n",
       "    </tr>\n",
       "    <tr>\n",
       "      <th>4</th>\n",
       "      <td>raedrexlre</td>\n",
       "      <td>Childish Gambino</td>\n",
       "      <td>Feels Like Summer</td>\n",
       "      <td>6</td>\n",
       "    </tr>\n",
       "  </tbody>\n",
       "</table>\n",
       "</div>"
      ],
      "text/plain": [
       "         user             artist              songs count\n",
       "0  raedrexlre  Rex Orange County    Corduroy Dreams     9\n",
       "1  raedrexlre              Keshi               blue     8\n",
       "2  raedrexlre               Zeph              Lucky     8\n",
       "3  raedrexlre        Pink Sweat$                 17     7\n",
       "4  raedrexlre   Childish Gambino  Feels Like Summer     6"
      ]
     },
     "execution_count": 20,
     "metadata": {},
     "output_type": "execute_result"
    }
   ],
   "source": [
    "#Take a look at this dataframe\n",
    "usersong_df.head()"
   ]
  },
  {
   "cell_type": "code",
   "execution_count": 21,
   "metadata": {},
   "outputs": [],
   "source": [
    "#Change to another dataframe\n",
    "usersong_rating = usersong_df"
   ]
  },
  {
   "cell_type": "code",
   "execution_count": 22,
   "metadata": {},
   "outputs": [
    {
     "data": {
      "text/html": [
       "<div>\n",
       "<style scoped>\n",
       "    .dataframe tbody tr th:only-of-type {\n",
       "        vertical-align: middle;\n",
       "    }\n",
       "\n",
       "    .dataframe tbody tr th {\n",
       "        vertical-align: top;\n",
       "    }\n",
       "\n",
       "    .dataframe thead th {\n",
       "        text-align: right;\n",
       "    }\n",
       "</style>\n",
       "<table border=\"1\" class=\"dataframe\">\n",
       "  <thead>\n",
       "    <tr style=\"text-align: right;\">\n",
       "      <th></th>\n",
       "      <th>user</th>\n",
       "      <th>count</th>\n",
       "      <th>song</th>\n",
       "    </tr>\n",
       "  </thead>\n",
       "  <tbody>\n",
       "    <tr>\n",
       "      <th>0</th>\n",
       "      <td>raedrexlre</td>\n",
       "      <td>9</td>\n",
       "      <td>Rex Orange County-Corduroy Dreams</td>\n",
       "    </tr>\n",
       "    <tr>\n",
       "      <th>1</th>\n",
       "      <td>raedrexlre</td>\n",
       "      <td>8</td>\n",
       "      <td>Keshi-blue</td>\n",
       "    </tr>\n",
       "    <tr>\n",
       "      <th>2</th>\n",
       "      <td>raedrexlre</td>\n",
       "      <td>8</td>\n",
       "      <td>Zeph-Lucky</td>\n",
       "    </tr>\n",
       "    <tr>\n",
       "      <th>3</th>\n",
       "      <td>raedrexlre</td>\n",
       "      <td>7</td>\n",
       "      <td>Pink Sweat$-17</td>\n",
       "    </tr>\n",
       "    <tr>\n",
       "      <th>4</th>\n",
       "      <td>raedrexlre</td>\n",
       "      <td>6</td>\n",
       "      <td>Childish Gambino-Feels Like Summer</td>\n",
       "    </tr>\n",
       "    <tr>\n",
       "      <th>5</th>\n",
       "      <td>raedrexlre</td>\n",
       "      <td>6</td>\n",
       "      <td>Daniel Caesar-Get You (feat. Kali Uchis)</td>\n",
       "    </tr>\n",
       "    <tr>\n",
       "      <th>6</th>\n",
       "      <td>raedrexlre</td>\n",
       "      <td>6</td>\n",
       "      <td>Daniel Caesar-Japanese Denim</td>\n",
       "    </tr>\n",
       "    <tr>\n",
       "      <th>7</th>\n",
       "      <td>raedrexlre</td>\n",
       "      <td>6</td>\n",
       "      <td>Smino-Wild Irish Roses</td>\n",
       "    </tr>\n",
       "    <tr>\n",
       "      <th>8</th>\n",
       "      <td>raedrexlre</td>\n",
       "      <td>6</td>\n",
       "      <td>Troye Sivan-BLUE</td>\n",
       "    </tr>\n",
       "    <tr>\n",
       "      <th>9</th>\n",
       "      <td>raedrexlre</td>\n",
       "      <td>5</td>\n",
       "      <td>Alisson Shore-Urong Sulong</td>\n",
       "    </tr>\n",
       "  </tbody>\n",
       "</table>\n",
       "</div>"
      ],
      "text/plain": [
       "         user count                                      song\n",
       "0  raedrexlre     9         Rex Orange County-Corduroy Dreams\n",
       "1  raedrexlre     8                                Keshi-blue\n",
       "2  raedrexlre     8                                Zeph-Lucky\n",
       "3  raedrexlre     7                            Pink Sweat$-17\n",
       "4  raedrexlre     6        Childish Gambino-Feels Like Summer\n",
       "5  raedrexlre     6  Daniel Caesar-Get You (feat. Kali Uchis)\n",
       "6  raedrexlre     6              Daniel Caesar-Japanese Denim\n",
       "7  raedrexlre     6                    Smino-Wild Irish Roses\n",
       "8  raedrexlre     6                          Troye Sivan-BLUE\n",
       "9  raedrexlre     5                Alisson Shore-Urong Sulong"
      ]
     },
     "execution_count": 22,
     "metadata": {},
     "output_type": "execute_result"
    }
   ],
   "source": [
    "#Combine artist and songs together\n",
    "usersong_rating['song'] = usersong_rating[\"artist\"] + \"-\" + usersong_rating[\"songs\"]\n",
    "usersong_rating = usersong_rating.drop(['artist'], axis=1)\n",
    "usersong_rating = usersong_rating.drop(['songs'], axis=1)\n",
    "usersong_rating.head(10)"
   ]
  },
  {
   "cell_type": "code",
   "execution_count": 23,
   "metadata": {},
   "outputs": [],
   "source": [
    "#Save this dataframe\n",
    "usersong_rating.to_pickle(\"../data/raw/scraped/usersong\")"
   ]
  },
  {
   "cell_type": "markdown",
   "metadata": {},
   "source": [
    "# Get users' info"
   ]
  },
  {
   "cell_type": "code",
   "execution_count": 24,
   "metadata": {},
   "outputs": [
    {
     "name": "stderr",
     "output_type": "stream",
     "text": [
      "100%|██████████| 10000/10000 [1:42:54<00:00,  1.62it/s] \n"
     ]
    }
   ],
   "source": [
    "#Get user's info\n",
    "#convert them into dataframe,also get user's infoun\n",
    "name = []\n",
    "country = []\n",
    "playcount = []\n",
    "for i in tqdm(range(len(rzhan97_small_list))):\n",
    "    data = lookup_userinfo(rzhan97_small_list[i])\n",
    "    #use this function to get the \n",
    "    try:\n",
    "        name.append(data[0])\n",
    "        country.append(data[1])\n",
    "        playcount.append(data[2])\n",
    "    except:\n",
    "        continue\n",
    "\n",
    "\n",
    "user_df = pd.DataFrame(zip(rzhan97_small_list,name,country,playcount), columns =['user','name','country','playcount'])\n",
    "user_df.to_pickle(\"user_df\")"
   ]
  },
  {
   "cell_type": "code",
   "execution_count": 26,
   "metadata": {},
   "outputs": [
    {
     "data": {
      "text/html": [
       "<div>\n",
       "<style scoped>\n",
       "    .dataframe tbody tr th:only-of-type {\n",
       "        vertical-align: middle;\n",
       "    }\n",
       "\n",
       "    .dataframe tbody tr th {\n",
       "        vertical-align: top;\n",
       "    }\n",
       "\n",
       "    .dataframe thead th {\n",
       "        text-align: right;\n",
       "    }\n",
       "</style>\n",
       "<table border=\"1\" class=\"dataframe\">\n",
       "  <thead>\n",
       "    <tr style=\"text-align: right;\">\n",
       "      <th></th>\n",
       "      <th>user</th>\n",
       "      <th>name</th>\n",
       "      <th>country</th>\n",
       "      <th>playcount</th>\n",
       "    </tr>\n",
       "  </thead>\n",
       "  <tbody>\n",
       "    <tr>\n",
       "      <th>9995</th>\n",
       "      <td>jo_alvaradoo</td>\n",
       "      <td></td>\n",
       "      <td>None</td>\n",
       "      <td>9521</td>\n",
       "    </tr>\n",
       "    <tr>\n",
       "      <th>9996</th>\n",
       "      <td>fiyafuadina</td>\n",
       "      <td>Hafiyya Fuadina Ashidiqi</td>\n",
       "      <td>Indonesia</td>\n",
       "      <td>77608</td>\n",
       "    </tr>\n",
       "    <tr>\n",
       "      <th>9997</th>\n",
       "      <td>Bad_Doc</td>\n",
       "      <td>Оля</td>\n",
       "      <td>Belarus</td>\n",
       "      <td>11003</td>\n",
       "    </tr>\n",
       "    <tr>\n",
       "      <th>9998</th>\n",
       "      <td>lobinyou</td>\n",
       "      <td></td>\n",
       "      <td>None</td>\n",
       "      <td>28470</td>\n",
       "    </tr>\n",
       "    <tr>\n",
       "      <th>9999</th>\n",
       "      <td>ben_council</td>\n",
       "      <td>scooby</td>\n",
       "      <td>United States</td>\n",
       "      <td>6329</td>\n",
       "    </tr>\n",
       "  </tbody>\n",
       "</table>\n",
       "</div>"
      ],
      "text/plain": [
       "              user                      name        country playcount\n",
       "9995  jo_alvaradoo                                     None      9521\n",
       "9996   fiyafuadina  Hafiyya Fuadina Ashidiqi      Indonesia     77608\n",
       "9997       Bad_Doc                       Оля        Belarus     11003\n",
       "9998      lobinyou                                     None     28470\n",
       "9999   ben_council                    scooby  United States      6329"
      ]
     },
     "execution_count": 26,
     "metadata": {},
     "output_type": "execute_result"
    }
   ],
   "source": [
    "user_df.tail()"
   ]
  },
  {
   "cell_type": "code",
   "execution_count": 27,
   "metadata": {},
   "outputs": [],
   "source": [
    "user_df.to_pickle(\"../data/processed/user_df\")"
   ]
  },
  {
   "cell_type": "markdown",
   "metadata": {},
   "source": [
    "# Get songs' info"
   ]
  },
  {
   "cell_type": "code",
   "execution_count": 137,
   "metadata": {},
   "outputs": [
    {
     "name": "stdout",
     "output_type": "stream",
     "text": [
      "24814\n"
     ]
    }
   ],
   "source": [
    "#Prepare for the song's metadata \n",
    "songs_df = usersong_df[['songs', 'artist']] \n",
    "songs_df = songs_df.drop_duplicates()\n",
    "songs_list = songs_df.songs.tolist()\n",
    "artists_list = songs_df.artist.tolist()\n",
    "print(len(songs_list))"
   ]
  },
  {
   "cell_type": "markdown",
   "metadata": {},
   "source": [
    "### Question: Do we have another quicker way to do this?"
   ]
  },
  {
   "cell_type": "code",
   "execution_count": null,
   "metadata": {},
   "outputs": [],
   "source": [
    "#Get each song's info for later use\n",
    "duration = []\n",
    "listeners = []\n",
    "playcount = []\n",
    "album = []\n",
    "tags = []\n",
    "published_date = []\n",
    "\n",
    "for i in range(len(songs_list)):\n",
    "    data = lookup_songinfo(songs[i],artists_list[i])\n",
    "    #if any records get error\n",
    "    try:\n",
    "        duration.append(data[0])\n",
    "        listeners.append(data[1])\n",
    "        playcount.append(data[2])\n",
    "        album.append(data[3])\n",
    "        tags.append(data[4])\n",
    "        published_date.append(data[5])\n",
    "    except:\n",
    "        continue\n",
    "\n",
    "\n",
    "song_df = pd.DataFrame(zip(songs,artists_list,duration,listeners,playcount,album,tags,published_date), columns =['song','artist','duration','listeners','playcount','album','tags','published_date'])\n",
    "song_df.to_pickle(\"song_df\")"
   ]
  },
  {
   "cell_type": "code",
   "execution_count": null,
   "metadata": {},
   "outputs": [],
   "source": []
  },
  {
   "cell_type": "code",
   "execution_count": null,
   "metadata": {},
   "outputs": [],
   "source": []
  }
 ],
 "metadata": {
  "kernelspec": {
   "display_name": "Python 3",
   "language": "python",
   "name": "python3"
  },
  "language_info": {
   "codemirror_mode": {
    "name": "ipython",
    "version": 3
   },
   "file_extension": ".py",
   "mimetype": "text/x-python",
   "name": "python",
   "nbconvert_exporter": "python",
   "pygments_lexer": "ipython3",
   "version": "3.8.8"
  }
 },
 "nbformat": 4,
 "nbformat_minor": 2
}
