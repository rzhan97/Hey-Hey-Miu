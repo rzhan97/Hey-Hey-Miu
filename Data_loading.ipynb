{
 "cells": [
  {
   "cell_type": "code",
   "execution_count": null,
   "id": "789c539c",
   "metadata": {},
   "outputs": [],
   "source": [
    "load_df = pd.read_pickle(\"usersong\")\n",
    "load_df = load_df.drop_duplicates()\n",
    "load_df.shape[0]"
   ]
  },
  {
   "cell_type": "code",
   "execution_count": null,
   "id": "aed484cf",
   "metadata": {},
   "outputs": [],
   "source": [
    "load_df.head(10)"
   ]
  },
  {
   "cell_type": "code",
   "execution_count": null,
   "id": "e0b8d6cd",
   "metadata": {},
   "outputs": [],
   "source": [
    "load_df.tail(10)"
   ]
  },
  {
   "cell_type": "code",
   "execution_count": null,
   "id": "2628324a",
   "metadata": {},
   "outputs": [],
   "source": [
    "load_df[[\"count\"]] = load_df[[\"count\"]].apply(pd.to_numeric)"
   ]
  },
  {
   "cell_type": "code",
   "execution_count": null,
   "id": "7b12739c",
   "metadata": {},
   "outputs": [],
   "source": [
    "usersong_matrix_df = load_df.pivot_table(index='user', columns='song', values='count').fillna(0)\n",
    "usersong_matrix_df.head(10)"
   ]
  },
  {
   "cell_type": "code",
   "execution_count": null,
   "id": "a1c9c686",
   "metadata": {},
   "outputs": [],
   "source": [
    "usersong_matrix_df.to_pickle(\"usersong_matrix_df\")\n",
    "usersong_matrix_load_df = pd.read_pickle(\"usersong_matrix_df\")"
   ]
  },
  {
   "cell_type": "code",
   "execution_count": null,
   "id": "3a38d34c",
   "metadata": {},
   "outputs": [],
   "source": [
    "usersong_matrix_load_df.info()"
   ]
  },
  {
   "cell_type": "markdown",
   "id": "a17e11fe",
   "metadata": {},
   "source": [
    "# Use matrix to fit into collaborative filtering package surprise"
   ]
  },
  {
   "cell_type": "code",
   "execution_count": null,
   "id": "532b18dc",
   "metadata": {},
   "outputs": [],
   "source": [
    "import pandas as pd\n",
    "from surprise import Dataset\n",
    "from surprise import Reader\n",
    "from surprise import KNNWithMeans\n",
    "from surprise import Dataset\n",
    "from surprise.model_selection import GridSearchCV"
   ]
  },
  {
   "cell_type": "markdown",
   "id": "92388f74",
   "metadata": {},
   "source": [
    "# Play around with other dataset"
   ]
  },
  {
   "cell_type": "code",
   "execution_count": null,
   "id": "13a3f6f6",
   "metadata": {},
   "outputs": [],
   "source": [
    "data = Dataset.load_builtin(\"ml-100k\")"
   ]
  },
  {
   "cell_type": "code",
   "execution_count": null,
   "id": "bc713232",
   "metadata": {},
   "outputs": [],
   "source": [
    "sim_options = {\n",
    "    \"name\": [\"msd\", \"cosine\"],\n",
    "    \"min_support\": [3, 4, 5],\n",
    "    \"user_based\": [False, True],\n",
    "}\n",
    "\n",
    "param_grid = {\"sim_options\": sim_options}\n",
    "\n",
    "gs = GridSearchCV(KNNWithMeans, param_grid, measures=[\"rmse\", \"mae\"], cv=3)\n",
    "gs.fit(data)\n",
    "\n",
    "print(gs.best_score[\"rmse\"])\n",
    "print(gs.best_params[\"rmse\"])"
   ]
  },
  {
   "cell_type": "code",
   "execution_count": null,
   "id": "103a89b1",
   "metadata": {},
   "outputs": [],
   "source": []
  },
  {
   "cell_type": "code",
   "execution_count": null,
   "id": "9e7f10fd",
   "metadata": {},
   "outputs": [],
   "source": []
  },
  {
   "cell_type": "code",
   "execution_count": null,
   "id": "f1799211",
   "metadata": {},
   "outputs": [],
   "source": []
  },
  {
   "cell_type": "code",
   "execution_count": null,
   "id": "4fd3db55",
   "metadata": {},
   "outputs": [],
   "source": []
  },
  {
   "cell_type": "code",
   "execution_count": null,
   "id": "de5667e4",
   "metadata": {},
   "outputs": [],
   "source": []
  }
 ],
 "metadata": {
  "kernelspec": {
   "display_name": "Python 3",
   "language": "python",
   "name": "python3"
  },
  "language_info": {
   "codemirror_mode": {
    "name": "ipython",
    "version": 3
   },
   "file_extension": ".py",
   "mimetype": "text/x-python",
   "name": "python",
   "nbconvert_exporter": "python",
   "pygments_lexer": "ipython3",
   "version": "3.8.8"
  }
 },
 "nbformat": 4,
 "nbformat_minor": 5
}
